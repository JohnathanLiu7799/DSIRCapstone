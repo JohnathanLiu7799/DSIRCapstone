{
 "cells": [
  {
   "cell_type": "markdown",
   "id": "10044094-e7cd-405c-a54d-0892b27a96b6",
   "metadata": {},
   "source": [
    "We expect a formatted and complete Jupyter Notebook by end of class\n",
    "on (see schedule in Course Info Repo), which accomplishes the following:\n",
    "\n",
    "    Identifies which of the three proposals you outlined in your lightning talk you have chosen\n",
    "    \n",
    "    - I want to create models that predict which behaviours land a Team Fight Tactics player into higher positions.These behaviours would then be distiled down into easily interpretable labels for players to act on to increase their gameplay. End deliverable would also include an app ideally for easy application (put in summoner ID and return a series of tags and metrics to improve on).\n",
    "\n",
    "    Articulates the main goal of your project (your problem statement)\n",
    "    \n",
    "    -This product would appeal to tft players interested in improving their performance, eventually leading to monetization possibilities such as ads or a freemium model. Acquisition by a sites such as mobalytics or tftchess also a possibility. Success in this model would mean being able to predict a players placement given certain metrics, specifically points of imporovement.\n",
    "    \n",
    "    Outlines your proposed methods and models\n",
    "    \n",
    "    -I would use regressors combined with provided metrics as well as engineered features to return coefficients in what affects the placement of a player the most (1 being the best, 8 being the worst)\n",
    "    \n",
    "    Defines the risks & assumptions of your data\n",
    "    Revises initial goals & success criteria, as needed\n",
    "    Documents your data source\n",
    "    \n",
    "    -I'll be using RIOT API, specifically, TFT-MATCH-V1,TFT-SUMMONER-V1 to retrieve data on matches and the players in those matches.\n",
    "    \n",
    "    Performs & summarizes preliminary EDA of your data\n"
   ]
  }
 ],
 "metadata": {
  "kernelspec": {
   "display_name": "Python 3",
   "language": "python",
   "name": "python3"
  },
  "language_info": {
   "codemirror_mode": {
    "name": "ipython",
    "version": 3
   },
   "file_extension": ".py",
   "mimetype": "text/x-python",
   "name": "python",
   "nbconvert_exporter": "python",
   "pygments_lexer": "ipython3",
   "version": "3.8.8"
  }
 },
 "nbformat": 4,
 "nbformat_minor": 5
}
