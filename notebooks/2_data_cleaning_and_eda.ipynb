{
 "cells": [
  {
   "cell_type": "markdown",
   "id": "1df37958-a289-445c-a324-1dc6664aeafe",
   "metadata": {},
   "source": [
    "## Imports"
   ]
  },
  {
   "cell_type": "code",
   "execution_count": 1,
   "id": "3a00fefd-d4bc-42e1-b06f-b01941016839",
   "metadata": {},
   "outputs": [],
   "source": [
    "import pandas as pd"
   ]
  },
  {
   "cell_type": "code",
   "execution_count": 2,
   "id": "25c35527-d7c4-4ba1-8e58-4af0deaec5b4",
   "metadata": {},
   "outputs": [],
   "source": [
    "import riotwatcher\n",
    "import time\n",
    "import pandas as pd\n",
    "import numpy as np\n",
    "import seaborn as sns\n",
    "import matplotlib.pyplot as plt\n",
    "import ast"
   ]
  },
  {
   "cell_type": "code",
   "execution_count": 3,
   "id": "8c9766b4-2e61-4ff5-86c2-9ca8d1ee8206",
   "metadata": {},
   "outputs": [],
   "source": [
    "pd.options.mode.chained_assignment = None  # default='warn'"
   ]
  },
  {
   "cell_type": "code",
   "execution_count": 4,
   "id": "42a61491-dcee-42f8-8439-d996d905e58d",
   "metadata": {},
   "outputs": [],
   "source": [
    "df = pd.read_csv('../datasets/match_df.csv')"
   ]
  },
  {
   "cell_type": "code",
   "execution_count": 5,
   "id": "77098b58-b6b7-4883-b7e5-b13e89de09dc",
   "metadata": {},
   "outputs": [
    {
     "data": {
      "text/html": [
       "<div>\n",
       "<style scoped>\n",
       "    .dataframe tbody tr th:only-of-type {\n",
       "        vertical-align: middle;\n",
       "    }\n",
       "\n",
       "    .dataframe tbody tr th {\n",
       "        vertical-align: top;\n",
       "    }\n",
       "\n",
       "    .dataframe thead th {\n",
       "        text-align: right;\n",
       "    }\n",
       "</style>\n",
       "<table border=\"1\" class=\"dataframe\">\n",
       "  <thead>\n",
       "    <tr style=\"text-align: right;\">\n",
       "      <th></th>\n",
       "      <th>MATCH_ID</th>\n",
       "      <th>index</th>\n",
       "      <th>companion</th>\n",
       "      <th>gold_left</th>\n",
       "      <th>last_round</th>\n",
       "      <th>level</th>\n",
       "      <th>placement</th>\n",
       "      <th>players_eliminated</th>\n",
       "      <th>puuid</th>\n",
       "      <th>time_eliminated</th>\n",
       "      <th>total_damage_to_players</th>\n",
       "      <th>traits</th>\n",
       "      <th>units</th>\n",
       "    </tr>\n",
       "  </thead>\n",
       "  <tbody>\n",
       "    <tr>\n",
       "      <th>0</th>\n",
       "      <td>NA1_4203444536</td>\n",
       "      <td>0</td>\n",
       "      <td>{'content_ID': '52fbe476-4038-432f-b94e-42914f...</td>\n",
       "      <td>9</td>\n",
       "      <td>35</td>\n",
       "      <td>8</td>\n",
       "      <td>2</td>\n",
       "      <td>1</td>\n",
       "      <td>7ITtMsLN7KDC4SwYh_-1Zz7r4_lJxuhOxrCkEahxgoHC0E...</td>\n",
       "      <td>2122.814453</td>\n",
       "      <td>135</td>\n",
       "      <td>[{'name': 'Set6_Academy', 'num_units': 2, 'sty...</td>\n",
       "      <td>[{'character_id': 'TFT6_Ziggs', 'items': [], '...</td>\n",
       "    </tr>\n",
       "    <tr>\n",
       "      <th>1</th>\n",
       "      <td>NA1_4203444536</td>\n",
       "      <td>1</td>\n",
       "      <td>{'content_ID': '72aaced9-2acd-42ec-a1f0-b6dc40...</td>\n",
       "      <td>0</td>\n",
       "      <td>30</td>\n",
       "      <td>8</td>\n",
       "      <td>6</td>\n",
       "      <td>0</td>\n",
       "      <td>fgu9lQCLiEYZjOyFZDBu8SXgi4UMG47GnQIKrnlO3xs5fc...</td>\n",
       "      <td>1821.564819</td>\n",
       "      <td>49</td>\n",
       "      <td>[{'name': 'Set6_Bruiser', 'num_units': 5, 'sty...</td>\n",
       "      <td>[{'character_id': 'TFT6_Illaoi', 'items': [219...</td>\n",
       "    </tr>\n",
       "    <tr>\n",
       "      <th>2</th>\n",
       "      <td>NA1_4203444536</td>\n",
       "      <td>2</td>\n",
       "      <td>{'content_ID': 'b36d46ca-120e-4a74-8420-6a10ce...</td>\n",
       "      <td>2</td>\n",
       "      <td>35</td>\n",
       "      <td>8</td>\n",
       "      <td>1</td>\n",
       "      <td>2</td>\n",
       "      <td>QGiza2F9yCqCmk6TrOLKuA3xvkAps3nDAeGN37VsETTxB7...</td>\n",
       "      <td>2122.814453</td>\n",
       "      <td>192</td>\n",
       "      <td>[{'name': 'Set6_Arcanist', 'num_units': 2, 'st...</td>\n",
       "      <td>[{'character_id': 'TFT6_Poppy', 'items': [59],...</td>\n",
       "    </tr>\n",
       "    <tr>\n",
       "      <th>3</th>\n",
       "      <td>NA1_4203444536</td>\n",
       "      <td>3</td>\n",
       "      <td>{'content_ID': '8c82996d-a343-4319-9a9a-9544f8...</td>\n",
       "      <td>90</td>\n",
       "      <td>33</td>\n",
       "      <td>8</td>\n",
       "      <td>4</td>\n",
       "      <td>0</td>\n",
       "      <td>O5DG0SCuJLIHd07HIsxo5pQWmxLKPOf4QQ6AEbbrq9cFjv...</td>\n",
       "      <td>1987.486938</td>\n",
       "      <td>123</td>\n",
       "      <td>[{'name': 'Set6_Chemtech', 'num_units': 1, 'st...</td>\n",
       "      <td>[{'character_id': 'TFT6_Singed', 'items': [], ...</td>\n",
       "    </tr>\n",
       "    <tr>\n",
       "      <th>4</th>\n",
       "      <td>NA1_4203444536</td>\n",
       "      <td>4</td>\n",
       "      <td>{'content_ID': '531c49c7-b446-4807-8b91-100515...</td>\n",
       "      <td>1</td>\n",
       "      <td>33</td>\n",
       "      <td>8</td>\n",
       "      <td>5</td>\n",
       "      <td>2</td>\n",
       "      <td>1VowMpU3PoNpxMmVx67I3vQ14hC6GVIpz2n2TFq63OXvY2...</td>\n",
       "      <td>1978.977661</td>\n",
       "      <td>89</td>\n",
       "      <td>[{'name': 'Set6_Academy', 'num_units': 1, 'sty...</td>\n",
       "      <td>[{'character_id': 'TFT6_Vi', 'items': [], 'nam...</td>\n",
       "    </tr>\n",
       "  </tbody>\n",
       "</table>\n",
       "</div>"
      ],
      "text/plain": [
       "         MATCH_ID  index                                          companion  \\\n",
       "0  NA1_4203444536      0  {'content_ID': '52fbe476-4038-432f-b94e-42914f...   \n",
       "1  NA1_4203444536      1  {'content_ID': '72aaced9-2acd-42ec-a1f0-b6dc40...   \n",
       "2  NA1_4203444536      2  {'content_ID': 'b36d46ca-120e-4a74-8420-6a10ce...   \n",
       "3  NA1_4203444536      3  {'content_ID': '8c82996d-a343-4319-9a9a-9544f8...   \n",
       "4  NA1_4203444536      4  {'content_ID': '531c49c7-b446-4807-8b91-100515...   \n",
       "\n",
       "   gold_left  last_round  level  placement  players_eliminated  \\\n",
       "0          9          35      8          2                   1   \n",
       "1          0          30      8          6                   0   \n",
       "2          2          35      8          1                   2   \n",
       "3         90          33      8          4                   0   \n",
       "4          1          33      8          5                   2   \n",
       "\n",
       "                                               puuid  time_eliminated  \\\n",
       "0  7ITtMsLN7KDC4SwYh_-1Zz7r4_lJxuhOxrCkEahxgoHC0E...      2122.814453   \n",
       "1  fgu9lQCLiEYZjOyFZDBu8SXgi4UMG47GnQIKrnlO3xs5fc...      1821.564819   \n",
       "2  QGiza2F9yCqCmk6TrOLKuA3xvkAps3nDAeGN37VsETTxB7...      2122.814453   \n",
       "3  O5DG0SCuJLIHd07HIsxo5pQWmxLKPOf4QQ6AEbbrq9cFjv...      1987.486938   \n",
       "4  1VowMpU3PoNpxMmVx67I3vQ14hC6GVIpz2n2TFq63OXvY2...      1978.977661   \n",
       "\n",
       "   total_damage_to_players                                             traits  \\\n",
       "0                      135  [{'name': 'Set6_Academy', 'num_units': 2, 'sty...   \n",
       "1                       49  [{'name': 'Set6_Bruiser', 'num_units': 5, 'sty...   \n",
       "2                      192  [{'name': 'Set6_Arcanist', 'num_units': 2, 'st...   \n",
       "3                      123  [{'name': 'Set6_Chemtech', 'num_units': 1, 'st...   \n",
       "4                       89  [{'name': 'Set6_Academy', 'num_units': 1, 'sty...   \n",
       "\n",
       "                                               units  \n",
       "0  [{'character_id': 'TFT6_Ziggs', 'items': [], '...  \n",
       "1  [{'character_id': 'TFT6_Illaoi', 'items': [219...  \n",
       "2  [{'character_id': 'TFT6_Poppy', 'items': [59],...  \n",
       "3  [{'character_id': 'TFT6_Singed', 'items': [], ...  \n",
       "4  [{'character_id': 'TFT6_Vi', 'items': [], 'nam...  "
      ]
     },
     "execution_count": 5,
     "metadata": {},
     "output_type": "execute_result"
    }
   ],
   "source": [
    "df.head()"
   ]
  },
  {
   "cell_type": "markdown",
   "id": "79a00fd6-0c9f-4a64-a96c-a4b9fc58d308",
   "metadata": {},
   "source": [
    "# Helper Functions"
   ]
  },
  {
   "cell_type": "code",
   "execution_count": 6,
   "id": "cacd0fab-df47-43fd-bb21-e7c225bce5d2",
   "metadata": {},
   "outputs": [
    {
     "data": {
      "image/png": "[encoded data removed]",
      "text/plain": [
       "<Figure size 432x288 with 2 Axes>"
      ]
     },
     "metadata": {
      "needs_background": "light"
     },
     "output_type": "display_data"
    }
   ],
   "source": [
    "sns.heatmap(df.corr(), annot=True);"
   ]
  },
  {
   "cell_type": "code",
   "execution_count": 7,
   "id": "4389e7a8-ac9c-4f01-894a-9699539be6ba",
   "metadata": {},
   "outputs": [],
   "source": [
    "df.drop(columns=['last_round','time_eliminated','companion','puuid'], inplace=True)"
   ]
  },
  {
   "cell_type": "markdown",
   "id": "f394bec1-2865-42ca-a0ac-36f847ce0915",
   "metadata": {},
   "source": [
    "Since these features are directly tied to placement (i.e. if you have the highest last round or time eliminated , you were first)"
   ]
  },
  {
   "cell_type": "code",
   "execution_count": 8,
   "id": "b3a77980-c001-476d-a662-0df883540742",
   "metadata": {},
   "outputs": [
    {
     "data": {
      "text/plain": [
       "MATCH_ID                   object\n",
       "index                       int64\n",
       "gold_left                   int64\n",
       "level                       int64\n",
       "placement                   int64\n",
       "players_eliminated          int64\n",
       "total_damage_to_players     int64\n",
       "traits                     object\n",
       "units                      object\n",
       "dtype: object"
      ]
     },
     "execution_count": 8,
     "metadata": {},
     "output_type": "execute_result"
    }
   ],
   "source": [
    "df.dtypes"
   ]
  },
  {
   "cell_type": "markdown",
   "id": "32e1bfef-f7fb-451b-9478-db78ced88e18",
   "metadata": {},
   "source": [
    "Traits and units are dictionaries right now, need to convert to categoricals"
   ]
  },
  {
   "cell_type": "code",
   "execution_count": 9,
   "id": "33e3bde2-02b8-49f3-92cc-4f6c7e791f5d",
   "metadata": {},
   "outputs": [],
   "source": [
    "#Get all traits"
   ]
  },
  {
   "cell_type": "code",
   "execution_count": 10,
   "id": "399211b4-6a2c-477f-a8e5-c47ed944a6b9",
   "metadata": {},
   "outputs": [],
   "source": [
    "all_traits = set()\n",
    "\n",
    "for row in df['traits']:\n",
    "    traits_df = pd.DataFrame(ast.literal_eval(row))\n",
    "    try:\n",
    "        for trait in traits_df['name']:\n",
    "            all_traits.add(trait)\n",
    "    except:\n",
    "        pass"
   ]
  },
  {
   "cell_type": "markdown",
   "id": "124f1970-374d-4c0d-b533-53337ecbf555",
   "metadata": {
    "tags": []
   },
   "source": [
    "# Converting Dictionaries to New Rows"
   ]
  },
  {
   "cell_type": "markdown",
   "id": "1f00b672-ef24-494a-94a9-e379f7b7f53a",
   "metadata": {
    "tags": []
   },
   "source": [
    "### Create new series and assign manually"
   ]
  },
  {
   "cell_type": "markdown",
   "id": "bca4fe8c-8991-4747-832a-0819edde8075",
   "metadata": {},
   "source": [
    "Create new series\n",
    "\n",
    "Manually add values where they exist\n",
    "\n",
    "Set null to 0\n",
    "\n"
   ]
  },
  {
   "cell_type": "code",
   "execution_count": 11,
   "id": "529ddd27-ae30-47d0-86c1-9eaa6251777b",
   "metadata": {
    "tags": []
   },
   "outputs": [
    {
     "data": {
      "text/html": [
       "<div>\n",
       "<style scoped>\n",
       "    .dataframe tbody tr th:only-of-type {\n",
       "        vertical-align: middle;\n",
       "    }\n",
       "\n",
       "    .dataframe tbody tr th {\n",
       "        vertical-align: top;\n",
       "    }\n",
       "\n",
       "    .dataframe thead th {\n",
       "        text-align: right;\n",
       "    }\n",
       "</style>\n",
       "<table border=\"1\" class=\"dataframe\">\n",
       "  <thead>\n",
       "    <tr style=\"text-align: right;\">\n",
       "      <th></th>\n",
       "      <th>MATCH_ID</th>\n",
       "      <th>index</th>\n",
       "      <th>gold_left</th>\n",
       "      <th>level</th>\n",
       "      <th>placement</th>\n",
       "      <th>players_eliminated</th>\n",
       "      <th>total_damage_to_players</th>\n",
       "      <th>traits</th>\n",
       "      <th>units</th>\n",
       "    </tr>\n",
       "  </thead>\n",
       "  <tbody>\n",
       "    <tr>\n",
       "      <th>0</th>\n",
       "      <td>NA1_4203444536</td>\n",
       "      <td>0</td>\n",
       "      <td>9</td>\n",
       "      <td>8</td>\n",
       "      <td>2</td>\n",
       "      <td>1</td>\n",
       "      <td>135</td>\n",
       "      <td>[{'name': 'Set6_Academy', 'num_units': 2, 'sty...</td>\n",
       "      <td>[{'character_id': 'TFT6_Ziggs', 'items': [], '...</td>\n",
       "    </tr>\n",
       "    <tr>\n",
       "      <th>1</th>\n",
       "      <td>NA1_4203444536</td>\n",
       "      <td>1</td>\n",
       "      <td>0</td>\n",
       "      <td>8</td>\n",
       "      <td>6</td>\n",
       "      <td>0</td>\n",
       "      <td>49</td>\n",
       "      <td>[{'name': 'Set6_Bruiser', 'num_units': 5, 'sty...</td>\n",
       "      <td>[{'character_id': 'TFT6_Illaoi', 'items': [219...</td>\n",
       "    </tr>\n",
       "    <tr>\n",
       "      <th>2</th>\n",
       "      <td>NA1_4203444536</td>\n",
       "      <td>2</td>\n",
       "      <td>2</td>\n",
       "      <td>8</td>\n",
       "      <td>1</td>\n",
       "      <td>2</td>\n",
       "      <td>192</td>\n",
       "      <td>[{'name': 'Set6_Arcanist', 'num_units': 2, 'st...</td>\n",
       "      <td>[{'character_id': 'TFT6_Poppy', 'items': [59],...</td>\n",
       "    </tr>\n",
       "    <tr>\n",
       "      <th>3</th>\n",
       "      <td>NA1_4203444536</td>\n",
       "      <td>3</td>\n",
       "      <td>90</td>\n",
       "      <td>8</td>\n",
       "      <td>4</td>\n",
       "      <td>0</td>\n",
       "      <td>123</td>\n",
       "      <td>[{'name': 'Set6_Chemtech', 'num_units': 1, 'st...</td>\n",
       "      <td>[{'character_id': 'TFT6_Singed', 'items': [], ...</td>\n",
       "    </tr>\n",
       "    <tr>\n",
       "      <th>4</th>\n",
       "      <td>NA1_4203444536</td>\n",
       "      <td>4</td>\n",
       "      <td>1</td>\n",
       "      <td>8</td>\n",
       "      <td>5</td>\n",
       "      <td>2</td>\n",
       "      <td>89</td>\n",
       "      <td>[{'name': 'Set6_Academy', 'num_units': 1, 'sty...</td>\n",
       "      <td>[{'character_id': 'TFT6_Vi', 'items': [], 'nam...</td>\n",
       "    </tr>\n",
       "  </tbody>\n",
       "</table>\n",
       "</div>"
      ],
      "text/plain": [
       "         MATCH_ID  index  gold_left  level  placement  players_eliminated  \\\n",
       "0  NA1_4203444536      0          9      8          2                   1   \n",
       "1  NA1_4203444536      1          0      8          6                   0   \n",
       "2  NA1_4203444536      2          2      8          1                   2   \n",
       "3  NA1_4203444536      3         90      8          4                   0   \n",
       "4  NA1_4203444536      4          1      8          5                   2   \n",
       "\n",
       "   total_damage_to_players                                             traits  \\\n",
       "0                      135  [{'name': 'Set6_Academy', 'num_units': 2, 'sty...   \n",
       "1                       49  [{'name': 'Set6_Bruiser', 'num_units': 5, 'sty...   \n",
       "2                      192  [{'name': 'Set6_Arcanist', 'num_units': 2, 'st...   \n",
       "3                      123  [{'name': 'Set6_Chemtech', 'num_units': 1, 'st...   \n",
       "4                       89  [{'name': 'Set6_Academy', 'num_units': 1, 'sty...   \n",
       "\n",
       "                                               units  \n",
       "0  [{'character_id': 'TFT6_Ziggs', 'items': [], '...  \n",
       "1  [{'character_id': 'TFT6_Illaoi', 'items': [219...  \n",
       "2  [{'character_id': 'TFT6_Poppy', 'items': [59],...  \n",
       "3  [{'character_id': 'TFT6_Singed', 'items': [], ...  \n",
       "4  [{'character_id': 'TFT6_Vi', 'items': [], 'nam...  "
      ]
     },
     "execution_count": 11,
     "metadata": {},
     "output_type": "execute_result"
    }
   ],
   "source": [
    "df.head()"
   ]
  },
  {
   "cell_type": "code",
   "execution_count": 12,
   "id": "f07cbd28-0f4b-45d2-a4f4-6a31a60a27dd",
   "metadata": {},
   "outputs": [],
   "source": [
    "#Create all null columns\n",
    "for trait in all_traits:\n",
    "    df[trait + \"_count\"] = np.nan"
   ]
  },
  {
   "cell_type": "code",
   "execution_count": 13,
   "id": "ade859a4-9a68-47cb-b2a7-3b61e21c7be6",
   "metadata": {},
   "outputs": [],
   "source": [
    "try:    \n",
    "    for index in list(df.index):\n",
    "        traits_df = pd.DataFrame(ast.literal_eval(df['traits'][index]))\n",
    "        if traits_df.empty:\n",
    "            continue\n",
    "        for trait in traits_df['name']:\n",
    "            if trait not in all_traits:\n",
    "                continue\n",
    "            trait_index = traits_df.index[traits_df['name']==trait]\n",
    "            df[trait + \"_count\"][index] = traits_df['num_units'].iloc[trait_index].values[0]\n",
    "except Exception as e:\n",
    "    print(index)\n",
    "    print(traits_df)\n",
    "    print(e)"
   ]
  },
  {
   "cell_type": "code",
   "execution_count": 14,
   "id": "7ac1d796-7c5f-462f-b0c3-9e1be89e5661",
   "metadata": {},
   "outputs": [],
   "source": [
    "#Create all null columns\n",
    "for trait in all_traits:\n",
    "    df[trait + \"_tier\"] = np.nan"
   ]
  },
  {
   "cell_type": "code",
   "execution_count": 15,
   "id": "f54166ab-f70a-43b8-9507-b172506ac743",
   "metadata": {},
   "outputs": [],
   "source": [
    "try:    \n",
    "    for index in list(df.index):\n",
    "        traits_df = pd.DataFrame(ast.literal_eval(df['traits'][index]))\n",
    "        if traits_df.empty:\n",
    "            continue\n",
    "        for trait in traits_df['name']:\n",
    "            if trait not in all_traits:\n",
    "                continue\n",
    "            trait_index = traits_df.index[traits_df['name']==trait]\n",
    "            df[trait + \"_tier\"][index] = traits_df['tier_current'].iloc[trait_index].values[0]\n",
    "except Exception as e:\n",
    "    print(index)\n",
    "    print(traits_df)\n",
    "    print(e)"
   ]
  },
  {
   "cell_type": "code",
   "execution_count": 16,
   "id": "a24e33fa-1208-4b72-9190-216c5d663e6a",
   "metadata": {},
   "outputs": [],
   "source": [
    "all_units = set()\n",
    "\n",
    "for row in df['units']:\n",
    "    character_df = pd.DataFrame(ast.literal_eval(row))\n",
    "    try:\n",
    "        for unit in character_df['character_id']:\n",
    "            all_units.add(unit)\n",
    "    except:\n",
    "        pass"
   ]
  },
  {
   "cell_type": "code",
   "execution_count": 17,
   "id": "d7459924-3943-4a09-a113-d29ab4d1562f",
   "metadata": {},
   "outputs": [],
   "source": [
    "#Create all null columns\n",
    "for unit in all_units:\n",
    "    df[unit] = np.nan"
   ]
  },
  {
   "cell_type": "code",
   "execution_count": 18,
   "id": "c2c0d76e-1afb-4339-8fc9-40a18ce71df7",
   "metadata": {},
   "outputs": [],
   "source": [
    "try:    \n",
    "    for index in list(df.index):\n",
    "        units_df = pd.DataFrame(ast.literal_eval(df['units'][index]))\n",
    "        if units_df.empty:\n",
    "            continue\n",
    "        for unit in units_df['character_id']:\n",
    "            if unit not in all_units:\n",
    "                continue\n",
    "            df[unit][index] = 1\n",
    "except Exception as e:\n",
    "    print(index)\n",
    "    print(units_df)\n",
    "    print(e)\n"
   ]
  },
  {
   "cell_type": "code",
   "execution_count": 19,
   "id": "71fff1f9-2263-4c62-880f-1909276c9fac",
   "metadata": {},
   "outputs": [
    {
     "data": {
      "text/html": [
       "<div>\n",
       "<style scoped>\n",
       "    .dataframe tbody tr th:only-of-type {\n",
       "        vertical-align: middle;\n",
       "    }\n",
       "\n",
       "    .dataframe tbody tr th {\n",
       "        vertical-align: top;\n",
       "    }\n",
       "\n",
       "    .dataframe thead th {\n",
       "        text-align: right;\n",
       "    }\n",
       "</style>\n",
       "<table border=\"1\" class=\"dataframe\">\n",
       "  <thead>\n",
       "    <tr style=\"text-align: right;\">\n",
       "      <th></th>\n",
       "      <th>MATCH_ID</th>\n",
       "      <th>index</th>\n",
       "      <th>gold_left</th>\n",
       "      <th>level</th>\n",
       "      <th>placement</th>\n",
       "      <th>players_eliminated</th>\n",
       "      <th>total_damage_to_players</th>\n",
       "      <th>traits</th>\n",
       "      <th>units</th>\n",
       "      <th>Set6_Twinshot_count</th>\n",
       "      <th>...</th>\n",
       "      <th>TFT6_Ziggs</th>\n",
       "      <th>TFT6_Swain</th>\n",
       "      <th>TFT6_Galio</th>\n",
       "      <th>TFT6_Trundle</th>\n",
       "      <th>TFT6_Shaco</th>\n",
       "      <th>TFT6_ChoGath</th>\n",
       "      <th>TFT6_Akali</th>\n",
       "      <th>TFT6_Veigar</th>\n",
       "      <th>TFT6_Yuumi</th>\n",
       "      <th>TFT6_Vex</th>\n",
       "    </tr>\n",
       "  </thead>\n",
       "  <tbody>\n",
       "    <tr>\n",
       "      <th>0</th>\n",
       "      <td>NA1_4203444536</td>\n",
       "      <td>0</td>\n",
       "      <td>9</td>\n",
       "      <td>8</td>\n",
       "      <td>2</td>\n",
       "      <td>1</td>\n",
       "      <td>135</td>\n",
       "      <td>[{'name': 'Set6_Academy', 'num_units': 2, 'sty...</td>\n",
       "      <td>[{'character_id': 'TFT6_Ziggs', 'items': [], '...</td>\n",
       "      <td>NaN</td>\n",
       "      <td>...</td>\n",
       "      <td>1.0</td>\n",
       "      <td>1.0</td>\n",
       "      <td>NaN</td>\n",
       "      <td>NaN</td>\n",
       "      <td>NaN</td>\n",
       "      <td>NaN</td>\n",
       "      <td>NaN</td>\n",
       "      <td>NaN</td>\n",
       "      <td>1.0</td>\n",
       "      <td>1.0</td>\n",
       "    </tr>\n",
       "    <tr>\n",
       "      <th>1</th>\n",
       "      <td>NA1_4203444536</td>\n",
       "      <td>1</td>\n",
       "      <td>0</td>\n",
       "      <td>8</td>\n",
       "      <td>6</td>\n",
       "      <td>0</td>\n",
       "      <td>49</td>\n",
       "      <td>[{'name': 'Set6_Bruiser', 'num_units': 5, 'sty...</td>\n",
       "      <td>[{'character_id': 'TFT6_Illaoi', 'items': [219...</td>\n",
       "      <td>1.0</td>\n",
       "      <td>...</td>\n",
       "      <td>NaN</td>\n",
       "      <td>NaN</td>\n",
       "      <td>NaN</td>\n",
       "      <td>NaN</td>\n",
       "      <td>NaN</td>\n",
       "      <td>1.0</td>\n",
       "      <td>NaN</td>\n",
       "      <td>NaN</td>\n",
       "      <td>NaN</td>\n",
       "      <td>NaN</td>\n",
       "    </tr>\n",
       "    <tr>\n",
       "      <th>2</th>\n",
       "      <td>NA1_4203444536</td>\n",
       "      <td>2</td>\n",
       "      <td>2</td>\n",
       "      <td>8</td>\n",
       "      <td>1</td>\n",
       "      <td>2</td>\n",
       "      <td>192</td>\n",
       "      <td>[{'name': 'Set6_Arcanist', 'num_units': 2, 'st...</td>\n",
       "      <td>[{'character_id': 'TFT6_Poppy', 'items': [59],...</td>\n",
       "      <td>NaN</td>\n",
       "      <td>...</td>\n",
       "      <td>1.0</td>\n",
       "      <td>NaN</td>\n",
       "      <td>NaN</td>\n",
       "      <td>NaN</td>\n",
       "      <td>NaN</td>\n",
       "      <td>NaN</td>\n",
       "      <td>NaN</td>\n",
       "      <td>1.0</td>\n",
       "      <td>NaN</td>\n",
       "      <td>1.0</td>\n",
       "    </tr>\n",
       "    <tr>\n",
       "      <th>3</th>\n",
       "      <td>NA1_4203444536</td>\n",
       "      <td>3</td>\n",
       "      <td>90</td>\n",
       "      <td>8</td>\n",
       "      <td>4</td>\n",
       "      <td>0</td>\n",
       "      <td>123</td>\n",
       "      <td>[{'name': 'Set6_Chemtech', 'num_units': 1, 'st...</td>\n",
       "      <td>[{'character_id': 'TFT6_Singed', 'items': [], ...</td>\n",
       "      <td>NaN</td>\n",
       "      <td>...</td>\n",
       "      <td>NaN</td>\n",
       "      <td>NaN</td>\n",
       "      <td>NaN</td>\n",
       "      <td>NaN</td>\n",
       "      <td>NaN</td>\n",
       "      <td>NaN</td>\n",
       "      <td>NaN</td>\n",
       "      <td>NaN</td>\n",
       "      <td>NaN</td>\n",
       "      <td>NaN</td>\n",
       "    </tr>\n",
       "    <tr>\n",
       "      <th>4</th>\n",
       "      <td>NA1_4203444536</td>\n",
       "      <td>4</td>\n",
       "      <td>1</td>\n",
       "      <td>8</td>\n",
       "      <td>5</td>\n",
       "      <td>2</td>\n",
       "      <td>89</td>\n",
       "      <td>[{'name': 'Set6_Academy', 'num_units': 1, 'sty...</td>\n",
       "      <td>[{'character_id': 'TFT6_Vi', 'items': [], 'nam...</td>\n",
       "      <td>2.0</td>\n",
       "      <td>...</td>\n",
       "      <td>NaN</td>\n",
       "      <td>NaN</td>\n",
       "      <td>NaN</td>\n",
       "      <td>NaN</td>\n",
       "      <td>NaN</td>\n",
       "      <td>NaN</td>\n",
       "      <td>NaN</td>\n",
       "      <td>NaN</td>\n",
       "      <td>1.0</td>\n",
       "      <td>NaN</td>\n",
       "    </tr>\n",
       "  </tbody>\n",
       "</table>\n",
       "<p>5 rows × 162 columns</p>\n",
       "</div>"
      ],
      "text/plain": [
       "         MATCH_ID  index  gold_left  level  placement  players_eliminated  \\\n",
       "0  NA1_4203444536      0          9      8          2                   1   \n",
       "1  NA1_4203444536      1          0      8          6                   0   \n",
       "2  NA1_4203444536      2          2      8          1                   2   \n",
       "3  NA1_4203444536      3         90      8          4                   0   \n",
       "4  NA1_4203444536      4          1      8          5                   2   \n",
       "\n",
       "   total_damage_to_players                                             traits  \\\n",
       "0                      135  [{'name': 'Set6_Academy', 'num_units': 2, 'sty...   \n",
       "1                       49  [{'name': 'Set6_Bruiser', 'num_units': 5, 'sty...   \n",
       "2                      192  [{'name': 'Set6_Arcanist', 'num_units': 2, 'st...   \n",
       "3                      123  [{'name': 'Set6_Chemtech', 'num_units': 1, 'st...   \n",
       "4                       89  [{'name': 'Set6_Academy', 'num_units': 1, 'sty...   \n",
       "\n",
       "                                               units  Set6_Twinshot_count  \\\n",
       "0  [{'character_id': 'TFT6_Ziggs', 'items': [], '...                  NaN   \n",
       "1  [{'character_id': 'TFT6_Illaoi', 'items': [219...                  1.0   \n",
       "2  [{'character_id': 'TFT6_Poppy', 'items': [59],...                  NaN   \n",
       "3  [{'character_id': 'TFT6_Singed', 'items': [], ...                  NaN   \n",
       "4  [{'character_id': 'TFT6_Vi', 'items': [], 'nam...                  2.0   \n",
       "\n",
       "   ...  TFT6_Ziggs  TFT6_Swain  TFT6_Galio  TFT6_Trundle  TFT6_Shaco  \\\n",
       "0  ...         1.0         1.0         NaN           NaN         NaN   \n",
       "1  ...         NaN         NaN         NaN           NaN         NaN   \n",
       "2  ...         1.0         NaN         NaN           NaN         NaN   \n",
       "3  ...         NaN         NaN         NaN           NaN         NaN   \n",
       "4  ...         NaN         NaN         NaN           NaN         NaN   \n",
       "\n",
       "   TFT6_ChoGath  TFT6_Akali  TFT6_Veigar  TFT6_Yuumi  TFT6_Vex  \n",
       "0           NaN         NaN          NaN         1.0       1.0  \n",
       "1           1.0         NaN          NaN         NaN       NaN  \n",
       "2           NaN         NaN          1.0         NaN       1.0  \n",
       "3           NaN         NaN          NaN         NaN       NaN  \n",
       "4           NaN         NaN          NaN         1.0       NaN  \n",
       "\n",
       "[5 rows x 162 columns]"
      ]
     },
     "execution_count": 19,
     "metadata": {},
     "output_type": "execute_result"
    }
   ],
   "source": [
    "df.head()"
   ]
  },
  {
   "cell_type": "code",
   "execution_count": 20,
   "id": "171f93ab-dac8-4be0-81c0-3bee0519258a",
   "metadata": {},
   "outputs": [],
   "source": [
    "df.fillna(0,inplace=True);"
   ]
  },
  {
   "cell_type": "code",
   "execution_count": 21,
   "id": "1f049a99-23ba-454a-9c93-e122c93a09db",
   "metadata": {},
   "outputs": [],
   "source": [
    "df.drop(columns=['traits','units'],inplace=True)"
   ]
  },
  {
   "cell_type": "code",
   "execution_count": 27,
   "id": "cae96301-55d8-4486-846a-67342b1e6ab4",
   "metadata": {},
   "outputs": [],
   "source": [
    "df.drop(columns=['index'], inplace=True)"
   ]
  },
  {
   "cell_type": "code",
   "execution_count": 28,
   "id": "006fd855-6a74-4a0c-b9f5-0051f7bd5f7c",
   "metadata": {},
   "outputs": [],
   "source": [
    "df.to_csv('../datasets/processed/matches.csv', index=False)"
   ]
  },
  {
   "cell_type": "markdown",
   "id": "c00c22e9-e4ed-492a-9035-57131b14681a",
   "metadata": {},
   "source": [
    "# EDA"
   ]
  },
  {
   "cell_type": "code",
   "execution_count": 29,
   "id": "237e436a-8d1f-4d99-8452-d25cc2de132d",
   "metadata": {},
   "outputs": [
    {
     "data": {
      "text/html": [
       "<div>\n",
       "<style scoped>\n",
       "    .dataframe tbody tr th:only-of-type {\n",
       "        vertical-align: middle;\n",
       "    }\n",
       "\n",
       "    .dataframe tbody tr th {\n",
       "        vertical-align: top;\n",
       "    }\n",
       "\n",
       "    .dataframe thead th {\n",
       "        text-align: right;\n",
       "    }\n",
       "</style>\n",
       "<table border=\"1\" class=\"dataframe\">\n",
       "  <thead>\n",
       "    <tr style=\"text-align: right;\">\n",
       "      <th></th>\n",
       "      <th>MATCH_ID</th>\n",
       "      <th>gold_left</th>\n",
       "      <th>level</th>\n",
       "      <th>placement</th>\n",
       "      <th>players_eliminated</th>\n",
       "      <th>total_damage_to_players</th>\n",
       "      <th>Set6_Twinshot_count</th>\n",
       "      <th>TFTTutorial_Blademaster_count</th>\n",
       "      <th>TFTTutorial_Assassin_count</th>\n",
       "      <th>Set6_Bodyguard_count</th>\n",
       "      <th>...</th>\n",
       "      <th>TFT6_Ziggs</th>\n",
       "      <th>TFT6_Swain</th>\n",
       "      <th>TFT6_Galio</th>\n",
       "      <th>TFT6_Trundle</th>\n",
       "      <th>TFT6_Shaco</th>\n",
       "      <th>TFT6_ChoGath</th>\n",
       "      <th>TFT6_Akali</th>\n",
       "      <th>TFT6_Veigar</th>\n",
       "      <th>TFT6_Yuumi</th>\n",
       "      <th>TFT6_Vex</th>\n",
       "    </tr>\n",
       "  </thead>\n",
       "  <tbody>\n",
       "    <tr>\n",
       "      <th>0</th>\n",
       "      <td>NA1_4203444536</td>\n",
       "      <td>9</td>\n",
       "      <td>8</td>\n",
       "      <td>2</td>\n",
       "      <td>1</td>\n",
       "      <td>135</td>\n",
       "      <td>0.0</td>\n",
       "      <td>0.0</td>\n",
       "      <td>0.0</td>\n",
       "      <td>0.0</td>\n",
       "      <td>...</td>\n",
       "      <td>1.0</td>\n",
       "      <td>1.0</td>\n",
       "      <td>0.0</td>\n",
       "      <td>0.0</td>\n",
       "      <td>0.0</td>\n",
       "      <td>0.0</td>\n",
       "      <td>0.0</td>\n",
       "      <td>0.0</td>\n",
       "      <td>1.0</td>\n",
       "      <td>1.0</td>\n",
       "    </tr>\n",
       "    <tr>\n",
       "      <th>1</th>\n",
       "      <td>NA1_4203444536</td>\n",
       "      <td>0</td>\n",
       "      <td>8</td>\n",
       "      <td>6</td>\n",
       "      <td>0</td>\n",
       "      <td>49</td>\n",
       "      <td>1.0</td>\n",
       "      <td>0.0</td>\n",
       "      <td>0.0</td>\n",
       "      <td>0.0</td>\n",
       "      <td>...</td>\n",
       "      <td>0.0</td>\n",
       "      <td>0.0</td>\n",
       "      <td>0.0</td>\n",
       "      <td>0.0</td>\n",
       "      <td>0.0</td>\n",
       "      <td>1.0</td>\n",
       "      <td>0.0</td>\n",
       "      <td>0.0</td>\n",
       "      <td>0.0</td>\n",
       "      <td>0.0</td>\n",
       "    </tr>\n",
       "    <tr>\n",
       "      <th>2</th>\n",
       "      <td>NA1_4203444536</td>\n",
       "      <td>2</td>\n",
       "      <td>8</td>\n",
       "      <td>1</td>\n",
       "      <td>2</td>\n",
       "      <td>192</td>\n",
       "      <td>0.0</td>\n",
       "      <td>0.0</td>\n",
       "      <td>0.0</td>\n",
       "      <td>1.0</td>\n",
       "      <td>...</td>\n",
       "      <td>1.0</td>\n",
       "      <td>0.0</td>\n",
       "      <td>0.0</td>\n",
       "      <td>0.0</td>\n",
       "      <td>0.0</td>\n",
       "      <td>0.0</td>\n",
       "      <td>0.0</td>\n",
       "      <td>1.0</td>\n",
       "      <td>0.0</td>\n",
       "      <td>1.0</td>\n",
       "    </tr>\n",
       "    <tr>\n",
       "      <th>3</th>\n",
       "      <td>NA1_4203444536</td>\n",
       "      <td>90</td>\n",
       "      <td>8</td>\n",
       "      <td>4</td>\n",
       "      <td>0</td>\n",
       "      <td>123</td>\n",
       "      <td>0.0</td>\n",
       "      <td>0.0</td>\n",
       "      <td>0.0</td>\n",
       "      <td>0.0</td>\n",
       "      <td>...</td>\n",
       "      <td>0.0</td>\n",
       "      <td>0.0</td>\n",
       "      <td>0.0</td>\n",
       "      <td>0.0</td>\n",
       "      <td>0.0</td>\n",
       "      <td>0.0</td>\n",
       "      <td>0.0</td>\n",
       "      <td>0.0</td>\n",
       "      <td>0.0</td>\n",
       "      <td>0.0</td>\n",
       "    </tr>\n",
       "    <tr>\n",
       "      <th>4</th>\n",
       "      <td>NA1_4203444536</td>\n",
       "      <td>1</td>\n",
       "      <td>8</td>\n",
       "      <td>5</td>\n",
       "      <td>2</td>\n",
       "      <td>89</td>\n",
       "      <td>2.0</td>\n",
       "      <td>0.0</td>\n",
       "      <td>0.0</td>\n",
       "      <td>0.0</td>\n",
       "      <td>...</td>\n",
       "      <td>0.0</td>\n",
       "      <td>0.0</td>\n",
       "      <td>0.0</td>\n",
       "      <td>0.0</td>\n",
       "      <td>0.0</td>\n",
       "      <td>0.0</td>\n",
       "      <td>0.0</td>\n",
       "      <td>0.0</td>\n",
       "      <td>1.0</td>\n",
       "      <td>0.0</td>\n",
       "    </tr>\n",
       "  </tbody>\n",
       "</table>\n",
       "<p>5 rows × 159 columns</p>\n",
       "</div>"
      ],
      "text/plain": [
       "         MATCH_ID  gold_left  level  placement  players_eliminated  \\\n",
       "0  NA1_4203444536          9      8          2                   1   \n",
       "1  NA1_4203444536          0      8          6                   0   \n",
       "2  NA1_4203444536          2      8          1                   2   \n",
       "3  NA1_4203444536         90      8          4                   0   \n",
       "4  NA1_4203444536          1      8          5                   2   \n",
       "\n",
       "   total_damage_to_players  Set6_Twinshot_count  \\\n",
       "0                      135                  0.0   \n",
       "1                       49                  1.0   \n",
       "2                      192                  0.0   \n",
       "3                      123                  0.0   \n",
       "4                       89                  2.0   \n",
       "\n",
       "   TFTTutorial_Blademaster_count  TFTTutorial_Assassin_count  \\\n",
       "0                            0.0                         0.0   \n",
       "1                            0.0                         0.0   \n",
       "2                            0.0                         0.0   \n",
       "3                            0.0                         0.0   \n",
       "4                            0.0                         0.0   \n",
       "\n",
       "   Set6_Bodyguard_count  ...  TFT6_Ziggs  TFT6_Swain  TFT6_Galio  \\\n",
       "0                   0.0  ...         1.0         1.0         0.0   \n",
       "1                   0.0  ...         0.0         0.0         0.0   \n",
       "2                   1.0  ...         1.0         0.0         0.0   \n",
       "3                   0.0  ...         0.0         0.0         0.0   \n",
       "4                   0.0  ...         0.0         0.0         0.0   \n",
       "\n",
       "   TFT6_Trundle  TFT6_Shaco  TFT6_ChoGath  TFT6_Akali  TFT6_Veigar  \\\n",
       "0           0.0         0.0           0.0         0.0          0.0   \n",
       "1           0.0         0.0           1.0         0.0          0.0   \n",
       "2           0.0         0.0           0.0         0.0          1.0   \n",
       "3           0.0         0.0           0.0         0.0          0.0   \n",
       "4           0.0         0.0           0.0         0.0          0.0   \n",
       "\n",
       "   TFT6_Yuumi  TFT6_Vex  \n",
       "0         1.0       1.0  \n",
       "1         0.0       0.0  \n",
       "2         0.0       1.0  \n",
       "3         0.0       0.0  \n",
       "4         1.0       0.0  \n",
       "\n",
       "[5 rows x 159 columns]"
      ]
     },
     "execution_count": 29,
     "metadata": {},
     "output_type": "execute_result"
    }
   ],
   "source": [
    "df.head()"
   ]
  },
  {
   "cell_type": "code",
   "execution_count": 31,
   "id": "527c6cf6-9490-4120-81be-7b0a64740155",
   "metadata": {},
   "outputs": [
    {
     "data": {
      "text/plain": [
       "(253000, 159)"
      ]
     },
     "execution_count": 31,
     "metadata": {},
     "output_type": "execute_result"
    }
   ],
   "source": [
    "df.shape"
   ]
  },
  {
   "cell_type": "code",
   "execution_count": 32,
   "id": "0216f893-da86-4853-a3f7-e2e86cd4535d",
   "metadata": {},
   "outputs": [],
   "source": [
    "trait_count_cols = [col for col in df.columns if col[:4] == 'Set6' and '_count' in col]"
   ]
  },
  {
   "cell_type": "code",
   "execution_count": 37,
   "id": "4af70142-eff7-4690-b756-a57132b40231",
   "metadata": {},
   "outputs": [
    {
     "data": {
      "image/png": "[encoded data removed]",
      "text/plain": [
       "<Figure size 1080x720 with 1 Axes>"
      ]
     },
     "metadata": {
      "needs_background": "light"
     },
     "output_type": "display_data"
    }
   ],
   "source": [
    "plt.figure(figsize=(15,10))\n",
    "ax = sns.barplot(x = df[trait_count_cols].sum().sort_values(ascending = False).index,\n",
    "           y = df[trait_count_cols].sum().sort_values(ascending= False))\n",
    "\n",
    "ax.set_xticklabels(ax.get_xticklabels(), rotation=60);\n",
    "plt.savefig('../figures/traits_count')"
   ]
  },
  {
   "cell_type": "code",
   "execution_count": 38,
   "id": "ec641613-74b4-4382-b206-3987e5b49932",
   "metadata": {},
   "outputs": [],
   "source": [
    "trait_tier_cols = [col for col in df.columns if col[:4] == 'Set6' and '_tier' in col]"
   ]
  },
  {
   "cell_type": "code",
   "execution_count": 39,
   "id": "0da9083e-320b-4411-9799-23cf55edba3e",
   "metadata": {},
   "outputs": [
    {
     "data": {
      "image/png": "[encoded data removed]",
      "text/plain": [
       "<Figure size 1080x720 with 1 Axes>"
      ]
     },
     "metadata": {
      "needs_background": "light"
     },
     "output_type": "display_data"
    }
   ],
   "source": [
    "plt.figure(figsize=(15,10))\n",
    "ax = sns.barplot(x = df[trait_tier_cols].sum().sort_values(ascending = False).index,\n",
    "           y = df[trait_tier_cols].sum().sort_values(ascending= False))\n",
    "\n",
    "ax.set_xticklabels(ax.get_xticklabels(), rotation=60);\n",
    "plt.savefig('../figures/traits_tiers')"
   ]
  },
  {
   "cell_type": "code",
   "execution_count": 41,
   "id": "8d5159e2-4f26-47b6-bb0c-a481a1d0a4a0",
   "metadata": {},
   "outputs": [],
   "source": [
    "unit_count_cols = [col for col in df.columns if 'TFT6' in col]"
   ]
  },
  {
   "cell_type": "code",
   "execution_count": 42,
   "id": "ed7183f7-1f40-4cfe-bcb7-53db6f1adf3b",
   "metadata": {},
   "outputs": [
    {
     "data": {
      "text/plain": [
       "<Figure size 432x288 with 0 Axes>"
      ]
     },
     "execution_count": 42,
     "metadata": {},
     "output_type": "execute_result"
    },
    {
     "data": {
      "image/png": "[encoded data removed]",
      "text/plain": [
       "<Figure size 1080x720 with 1 Axes>"
      ]
     },
     "metadata": {
      "needs_background": "light"
     },
     "output_type": "display_data"
    },
    {
     "data": {
      "text/plain": [
       "<Figure size 432x288 with 0 Axes>"
      ]
     },
     "metadata": {},
     "output_type": "display_data"
    }
   ],
   "source": [
    "plt.figure(figsize=(15,10))\n",
    "ax = sns.barplot(x = df[unit_count_cols].sum().sort_values(ascending = False).index,\n",
    "           y = df[unit_count_cols].sum().sort_values(ascending= False))\n",
    "\n",
    "ax.set_xticklabels(ax.get_xticklabels(), rotation=90);\n",
    "plt.figure('../figures/units_count')"
   ]
  },
  {
   "cell_type": "code",
   "execution_count": null,
   "id": "f6d8d11f-8487-42e1-af59-c0a1851f156e",
   "metadata": {},
   "outputs": [],
   "source": []
  }
 ],
 "metadata": {
  "kernelspec": {
   "display_name": "Python 3",
   "language": "python",
   "name": "python3"
  },
  "language_info": {
   "codemirror_mode": {
    "name": "ipython",
    "version": 3
   },
   "file_extension": ".py",
   "mimetype": "text/x-python",
   "name": "python",
   "nbconvert_exporter": "python",
   "pygments_lexer": "ipython3",
   "version": "3.8.8"
  }
 },
 "nbformat": 4,
 "nbformat_minor": 5
}
