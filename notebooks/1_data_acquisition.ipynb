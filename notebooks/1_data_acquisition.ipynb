{
 "cells": [
  {
   "cell_type": "markdown",
   "id": "f5448935-624a-4827-9520-607a662f75f9",
   "metadata": {
    "tags": []
   },
   "source": [
    "# Imports"
   ]
  },
  {
   "cell_type": "code",
   "execution_count": 15,
   "id": "48e70154-0799-408c-8fe7-f40660f30fc9",
   "metadata": {},
   "outputs": [],
   "source": [
    "import config\n",
    "import requests"
   ]
  },
  {
   "cell_type": "code",
   "execution_count": 2,
   "id": "fa32a382-82c0-4358-8804-fb3a42f4ef0b",
   "metadata": {},
   "outputs": [],
   "source": [
    "import riotwatcher\n",
    "import time\n",
    "import pandas as pd\n",
    "import numpy as np\n",
    "import seaborn as sns\n",
    "import matplotlib.pyplot as plt"
   ]
  },
  {
   "cell_type": "markdown",
   "id": "afe01988-54c3-4b2a-9f63-40552fae3337",
   "metadata": {},
   "source": [
    "# Helper Functions"
   ]
  },
  {
   "cell_type": "code",
   "execution_count": 3,
   "id": "902e2dc2-5226-4d98-aa18-b5832b3681bd",
   "metadata": {},
   "outputs": [],
   "source": [
    "def check_rate(rate, limit):\n",
    "    rate +=1\n",
    "    if rate > limit-10:\n",
    "        time.sleep(120)\n",
    "        rate = 0\n",
    "    return rate"
   ]
  },
  {
   "cell_type": "code",
   "execution_count": 4,
   "id": "50ff3d02-1c98-4b50-b1c6-740ac5636c68",
   "metadata": {},
   "outputs": [],
   "source": [
    "def scrape_player_data(size):\n",
    "    \"\"\"\n",
    "    Scrapes from an intial summoner, gathering summoner puuIDs in a set (to avoid duplicates)\n",
    "    until set is equal to size in size.\n",
    "    \n",
    "    LOGIC:\n",
    "    GET INIT\n",
    "    GET MATCH\n",
    "    GET PARTICIPANTS\n",
    "    ADD UNIQUE PARTICIPANTS TO UNIQUE_CHAIN\n",
    "    ADD PARTICIPANTS TO SUMMONER_SET\n",
    "    FROM UNIQUE PARTICIPANTS GET MATCH\n",
    "    GET PARTICIPANTS\n",
    "    \"\"\"\n",
    "    \n",
    "\n",
    "    #Sets up API\n",
    "    tft = riotwatcher.TftWatcher(config.api_key)\n",
    "    #GET INIT\n",
    "    initial_summoner = tft.summoner.by_name('na1', config.initial_summoner)\n",
    "    \n",
    "    #Return object\n",
    "    summoner_list = [initial_summoner['puuid']]\n",
    "    \n",
    "    while(len(summoner_list) < size):\n",
    "        \n",
    "        #counts number of requests made to API\n",
    "        #limit is 100/2min\n",
    "        rate = 0\n",
    "        \n",
    "        #Current Summoner is puuID\n",
    "        current_summoner = summoner_list[-1]\n",
    "        current_match_id_list = tft.match.by_puuid('americas',current_summoner, count=2)\n",
    "        \n",
    "        rate = check_rate(rate, 200)\n",
    "        \n",
    "        for current_match_id in current_match_id_list:\n",
    "            current_match = tft.match.by_id('americas',current_match_id)\n",
    "            \n",
    "            rate = check_rate(rate,200)\n",
    "            \n",
    "            for participant_puuid in current_match['metadata']['participants']:\n",
    "                #New puuID\n",
    "                if participant_puuid not in summoner_list:\n",
    "                    pass\n",
    "    \n",
    "    return summoner_list"
   ]
  },
  {
   "cell_type": "code",
   "execution_count": 20,
   "id": "8b8f73a1-330f-4fd3-8513-dd601d47a3c2",
   "metadata": {},
   "outputs": [],
   "source": [
    "def scrape_match_data(puuid_list, matches_per_player, verbose=True):\n",
    "    \n",
    "    \"\"\"\n",
    "    Taking in a list of puuid's, scrape_match_data retrieves the [matches_per_player] most recent matches.\n",
    "    Stores them all in an empty DataFrame\n",
    "    And Returns DataFrame\n",
    "    \"\"\"\n",
    "    \n",
    "    res = pd.DataFrame()\n",
    "    rate = 0\n",
    "    \n",
    "    for puuid in puuid_list:\n",
    "        \n",
    "        try:\n",
    "            match_list = tft.match.by_puuid('americas', puuid, count=matches_per_player)\n",
    "            rate = check_rate(rate,200)\n",
    "\n",
    "            for match_id in match_list:\n",
    "\n",
    "                match=tft.match.by_id('americas', match_id)\n",
    "                rate =check_rate(rate,200)\n",
    "\n",
    "                match_df = pd.concat({match_id:pd.DataFrame(match['info']['participants'])}, names=['MATCH_ID'])\n",
    "\n",
    "                res = pd.concat([res,match_df])\n",
    "\n",
    "                if res.shape[0] % 1000 == 0:\n",
    "                    if verbose:\n",
    "                        print(\"*\" * 30)\n",
    "                        print(f'Reached {res.shape[0]} Rows')\n",
    "                        print('Saving...')\n",
    "                        print(f'Current Time :{time.strftime(\"%H:%M:\", time.localtime())}')\n",
    "                    res.to_csv('../datasets/match_df.csv', index_label=['MATCH_ID','index'])\n",
    "        except requests.exceptions.HTTPErroras as exception:\n",
    "            if verbose:\n",
    "                print('*' * 30)\n",
    "                print(f'Recieved Error: {exception.response.status_code}')\n",
    "                print(f'Waiting 5 Minutes Before Continuing')\n",
    "                print(f'Current Time :{time.strftime(\"%H:%M:\", time.localtime())}')\n",
    "            time.sleep(300)\n",
    "            \n",
    "    return res"
   ]
  },
  {
   "cell_type": "markdown",
   "id": "dea8bcd8-b410-4dc9-8e7d-f0f220e07fc5",
   "metadata": {
    "tags": []
   },
   "source": [
    "# API/Wrapper Setup"
   ]
  },
  {
   "cell_type": "code",
   "execution_count": 18,
   "id": "aab813d8-4920-4d31-baea-bface4f8b8e4",
   "metadata": {},
   "outputs": [
    {
     "name": "stdout",
     "output_type": "stream",
     "text": [
      "Current Time 12:24:42\n"
     ]
    }
   ],
   "source": [
    "print(f'Current Time {time.strftime(\"%H:%M:\", time.localtime())}')"
   ]
  },
  {
   "cell_type": "code",
   "execution_count": 6,
   "id": "0c0aca20-c497-4bcc-bcb5-2153597a21a9",
   "metadata": {},
   "outputs": [],
   "source": [
    "tft = riotwatcher.TftWatcher(config.api_key)"
   ]
  },
  {
   "cell_type": "markdown",
   "id": "4f8d93ed-17e2-46fc-85b7-bdd85078ca3e",
   "metadata": {
    "tags": []
   },
   "source": [
    "# Data Acquisition"
   ]
  },
  {
   "cell_type": "markdown",
   "id": "2cd0e4bc-06bf-4118-ab4c-0ae6aa9afbf8",
   "metadata": {},
   "source": [
    "## Summoner Puuid Scraping"
   ]
  },
  {
   "cell_type": "code",
   "execution_count": 45,
   "id": "e0df3546-52c9-4357-aa9c-60c7d90728b3",
   "metadata": {
    "tags": []
   },
   "outputs": [],
   "source": [
    "player_list = scrape_player_data(10_000) "
   ]
  },
  {
   "cell_type": "code",
   "execution_count": null,
   "id": "8350f62e-dd78-4e8a-a0bb-b8b904657a82",
   "metadata": {},
   "outputs": [],
   "source": [
    "player_list.to_csv('../datasets/summoner_puuids.csv',index=False)"
   ]
  },
  {
   "cell_type": "markdown",
   "id": "fd3d3b5b-41ed-4587-81f5-5a8abfb6649e",
   "metadata": {},
   "source": [
    "## Match Scraping"
   ]
  },
  {
   "cell_type": "code",
   "execution_count": 7,
   "id": "98e3ef20-4a17-4b3b-ba87-1e3a78e5c792",
   "metadata": {},
   "outputs": [],
   "source": [
    "player_list = pd.read_csv('../datasets/summoner_puuids.csv')"
   ]
  },
  {
   "cell_type": "code",
   "execution_count": 8,
   "id": "c00a3e43-05d1-43f3-b627-911477d0f839",
   "metadata": {},
   "outputs": [
    {
     "data": {
      "text/html": [
       "<div>\n",
       "<style scoped>\n",
       "    .dataframe tbody tr th:only-of-type {\n",
       "        vertical-align: middle;\n",
       "    }\n",
       "\n",
       "    .dataframe tbody tr th {\n",
       "        vertical-align: top;\n",
       "    }\n",
       "\n",
       "    .dataframe thead th {\n",
       "        text-align: right;\n",
       "    }\n",
       "</style>\n",
       "<table border=\"1\" class=\"dataframe\">\n",
       "  <thead>\n",
       "    <tr style=\"text-align: right;\">\n",
       "      <th></th>\n",
       "      <th>summoner_puuid</th>\n",
       "    </tr>\n",
       "  </thead>\n",
       "  <tbody>\n",
       "    <tr>\n",
       "      <th>0</th>\n",
       "      <td>Kd4Xz5DXbrEphO15MDzByPFqYdWVMT_L27vH7Yq6DfDn66...</td>\n",
       "    </tr>\n",
       "    <tr>\n",
       "      <th>1</th>\n",
       "      <td>uYusCxO1ixEhomxcoiioMPfLebToRRcSKMt7xY39wE3V53...</td>\n",
       "    </tr>\n",
       "    <tr>\n",
       "      <th>2</th>\n",
       "      <td>RSs0bQs81xWzeL81iClAevfOirVGPBE4Ctf0lymmscxjSQ...</td>\n",
       "    </tr>\n",
       "    <tr>\n",
       "      <th>3</th>\n",
       "      <td>mBsMqJuSWqnxxLUGdPTiiHqDivZNrh64n3MND65hu--cV9...</td>\n",
       "    </tr>\n",
       "    <tr>\n",
       "      <th>4</th>\n",
       "      <td>Mm4mqIDNu7szCdtub6foYrxxIWtvKLI_Skkhev40_nwN2_...</td>\n",
       "    </tr>\n",
       "  </tbody>\n",
       "</table>\n",
       "</div>"
      ],
      "text/plain": [
       "                                      summoner_puuid\n",
       "0  Kd4Xz5DXbrEphO15MDzByPFqYdWVMT_L27vH7Yq6DfDn66...\n",
       "1  uYusCxO1ixEhomxcoiioMPfLebToRRcSKMt7xY39wE3V53...\n",
       "2  RSs0bQs81xWzeL81iClAevfOirVGPBE4Ctf0lymmscxjSQ...\n",
       "3  mBsMqJuSWqnxxLUGdPTiiHqDivZNrh64n3MND65hu--cV9...\n",
       "4  Mm4mqIDNu7szCdtub6foYrxxIWtvKLI_Skkhev40_nwN2_..."
      ]
     },
     "execution_count": 8,
     "metadata": {},
     "output_type": "execute_result"
    }
   ],
   "source": [
    "player_list.head()"
   ]
  },
  {
   "cell_type": "code",
   "execution_count": null,
   "id": "cd410c2d-5829-4bf9-80d4-218045d93d2c",
   "metadata": {
    "tags": []
   },
   "outputs": [
    {
     "name": "stdout",
     "output_type": "stream",
     "text": [
      "******************************\n",
      "Reached 1000 Rows\n",
      "Saving...\n",
      "Current Time :12:29:\n",
      "******************************\n",
      "Reached 2000 Rows\n",
      "Saving...\n",
      "Current Time :12:32:\n",
      "******************************\n",
      "Reached 3000 Rows\n",
      "Saving...\n",
      "Current Time :12:36:\n",
      "******************************\n",
      "Reached 4000 Rows\n",
      "Saving...\n",
      "Current Time :12:38:\n",
      "******************************\n",
      "Reached 5000 Rows\n",
      "Saving...\n",
      "Current Time :12:43:\n",
      "******************************\n",
      "Reached 6000 Rows\n",
      "Saving...\n",
      "Current Time :12:45:\n"
     ]
    }
   ],
   "source": [
    "match_df = scrape_match_data(player_list['summoner_puuid'], 10)"
   ]
  },
  {
   "cell_type": "code",
   "execution_count": null,
   "id": "f41ee90b-bb1f-4e30-a1e3-cb4e718a0cd0",
   "metadata": {},
   "outputs": [],
   "source": []
  }
 ],
 "metadata": {
  "kernelspec": {
   "display_name": "Python 3",
   "language": "python",
   "name": "python3"
  },
  "language_info": {
   "codemirror_mode": {
    "name": "ipython",
    "version": 3
   },
   "file_extension": ".py",
   "mimetype": "text/x-python",
   "name": "python",
   "nbconvert_exporter": "python",
   "pygments_lexer": "ipython3",
   "version": "3.8.8"
  }
 },
 "nbformat": 4,
 "nbformat_minor": 5
}
