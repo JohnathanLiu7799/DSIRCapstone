{
 "cells": [
  {
   "cell_type": "markdown",
   "id": "f5448935-624a-4827-9520-607a662f75f9",
   "metadata": {
    "tags": []
   },
   "source": [
    "# Imports"
   ]
  },
  {
   "cell_type": "code",
   "execution_count": 1,
   "id": "48e70154-0799-408c-8fe7-f40660f30fc9",
   "metadata": {},
   "outputs": [],
   "source": [
    "import config"
   ]
  },
  {
   "cell_type": "code",
   "execution_count": 2,
   "id": "fa32a382-82c0-4358-8804-fb3a42f4ef0b",
   "metadata": {},
   "outputs": [],
   "source": [
    "import riotwatcher\n",
    "import time\n",
    "import pandas as pd\n",
    "import numpy as np\n",
    "import seaborn as sns\n",
    "import matplotlib.pyplot as plt"
   ]
  },
  {
   "cell_type": "code",
   "execution_count": 3,
   "id": "cb922d42-2cbe-4fdd-bba4-179b5c9f148a",
   "metadata": {},
   "outputs": [],
   "source": [
    "def scrape_player_data():\n",
    "    \"\"\"\n",
    "    By taking in one summoner and using their past tft games to spider into other user IDs,\n",
    "    using their match histories to find more users and more matches.\n",
    "    \n",
    "    [TO-DO] \n",
    "    ENSURE UNIQUE MATCH IDs (No Repeats)\n",
    "    ENSURE UNIQUE SUMMONER IDs (No Traceback)\n",
    "    \n",
    "    LIMIT = 100 REQUESTS/2MIN\n",
    "            20 REQUESTS/1SEC\n",
    "    \n",
    "    INIT CENTER = 1 REQ\n",
    "    \n",
    "    1 ROTATION = 3 REQS\n",
    "    MATCH LIST = 1 REQ\n",
    "    PARTICIPANTS = 1 REQ\n",
    "    NEW CENTER = 1 REQ\n",
    "    \n",
    "    33 CYCLES EVERY 2 MIN\n",
    "    \n",
    "    SCRAPE PLAYERS->AND THEN GET MATCHES\n",
    "    \n",
    "    \"\"\"\n",
    "    \n",
    "    #Initial Point\n",
    "    "
   ]
  },
  {
   "cell_type": "code",
   "execution_count": 43,
   "id": "902e2dc2-5226-4d98-aa18-b5832b3681bd",
   "metadata": {},
   "outputs": [],
   "source": [
    "def check_rate(rate, limit):\n",
    "    if rate > limit-10:\n",
    "        time.sleep(120)"
   ]
  },
  {
   "cell_type": "code",
   "execution_count": 44,
   "id": "50ff3d02-1c98-4b50-b1c6-740ac5636c68",
   "metadata": {},
   "outputs": [],
   "source": [
    "def scrape_player_data(size):\n",
    "    \"\"\"\n",
    "    Scrapes from an intial summoner, gathering summoner puuIDs in a set (to avoid duplicates)\n",
    "    until set is equal to size in size.\n",
    "    \n",
    "    LOGIC:\n",
    "    GET INIT\n",
    "    GET MATCH\n",
    "    GET PARTICIPANTS\n",
    "    ADD UNIQUE PARTICIPANTS TO UNIQUE_CHAIN\n",
    "    ADD PARTICIPANTS TO SUMMONER_SET\n",
    "    FROM UNIQUE PARTICIPANTS GET MATCH\n",
    "    GET PARTICIPANTS\n",
    "    \"\"\"\n",
    "    \n",
    "\n",
    "    #Sets up API\n",
    "    tft = riotwatcher.TftWatcher(config.api_key)\n",
    "    #GET INIT\n",
    "    initial_summoner = tft.summoner.by_name('na1', config.initial_summoner)\n",
    "    \n",
    "    #Return object\n",
    "    summoner_list = [initial_summoner['puuid']]\n",
    "    \n",
    "    while(len(summoner_list) < size):\n",
    "        \n",
    "        #counts number of requests made to API\n",
    "        #limit is 100/2min\n",
    "        rate = 0\n",
    "        \n",
    "        #Current Summoner is puuID\n",
    "        current_summoner = summoner_list[-1]\n",
    "        current_match_id_list = tft.match.by_puuid('americas',current_summoner, count=2)\n",
    "        \n",
    "        rate +=1\n",
    "        check_rate(rate, 200)\n",
    "        \n",
    "        for current_match_id in current_match_id_list:\n",
    "            current_match = tft.match.by_id('americas',current_match_id)\n",
    "            \n",
    "            rate +=1\n",
    "            check_rate(rate,200)\n",
    "            \n",
    "            for participant_puuid in current_match['metadata']['participants']:\n",
    "                #New puuID\n",
    "                if participant_puuid not in summoner_list:\n",
    "                    pass\n",
    "    \n",
    "    return summoner_list"
   ]
  },
  {
   "cell_type": "code",
   "execution_count": 45,
   "id": "e0df3546-52c9-4357-aa9c-60c7d90728b3",
   "metadata": {
    "tags": []
   },
   "outputs": [],
   "source": [
    "player_list = scrape_player_data(10_000) "
   ]
  },
  {
   "cell_type": "code",
   "execution_count": null,
   "id": "8350f62e-dd78-4e8a-a0bb-b8b904657a82",
   "metadata": {},
   "outputs": [],
   "source": []
  },
  {
   "cell_type": "code",
   "execution_count": 46,
   "id": "8017dddc-adcb-4235-9b9c-6ebdfdad66f7",
   "metadata": {},
   "outputs": [
    {
     "data": {
      "text/plain": [
       "10002"
      ]
     },
     "execution_count": 46,
     "metadata": {},
     "output_type": "execute_result"
    }
   ],
   "source": [
    "len(player_list) "
   ]
  },
  {
   "cell_type": "code",
   "execution_count": 48,
   "id": "3e12f12f-8705-40a2-8894-acf737ae49a8",
   "metadata": {},
   "outputs": [],
   "source": [
    "summoner_puuids = pd.DataFrame(player_list, columns = ['summoner_puuid'])"
   ]
  },
  {
   "cell_type": "code",
   "execution_count": 49,
   "id": "1f5d0f6e-7db0-4655-b432-df626be825bc",
   "metadata": {},
   "outputs": [],
   "source": [
    "summoner_puuids.to_csv('../datasets/summoner_puuids.csv',index=False)"
   ]
  },
  {
   "cell_type": "code",
   "execution_count": 10,
   "id": "e5924d6d-6683-42b7-8215-9e6238aa468e",
   "metadata": {},
   "outputs": [],
   "source": [
    "tft = riotwatcher.TftWatcher(config.api_key)"
   ]
  },
  {
   "cell_type": "code",
   "execution_count": 11,
   "id": "7c42a61a-e79b-40d6-9edd-aa000b391e6b",
   "metadata": {},
   "outputs": [],
   "source": [
    "initial_summoner = tft.summoner.by_name('na1', config.initial_summoner)"
   ]
  },
  {
   "cell_type": "code",
   "execution_count": 12,
   "id": "f50b8f7d-ac68-4613-b917-41cfb077fc63",
   "metadata": {},
   "outputs": [],
   "source": [
    "match_list = tft.match.by_puuid('americas',initial_summoner['puuid'])"
   ]
  },
  {
   "cell_type": "code",
   "execution_count": 13,
   "id": "46ee5186-7591-48fc-aa62-615cb797b3ba",
   "metadata": {
    "tags": []
   },
   "outputs": [],
   "source": [
    "sample_match = tft.match.by_id('americas',match_list[0])"
   ]
  },
  {
   "cell_type": "code",
   "execution_count": 14,
   "id": "377f5c5d-f99e-4163-aac6-3b5d83344de8",
   "metadata": {},
   "outputs": [
    {
     "data": {
      "text/plain": [
       "['uYusCxO1ixEhomxcoiioMPfLebToRRcSKMt7xY39wE3V53KLbRGdhn_AfN9sYr3u8tukkFS0MDuF7w',\n",
       " 'Kd4Xz5DXbrEphO15MDzByPFqYdWVMT_L27vH7Yq6DfDn66v3S9eEBV6Lb0hky-wrxLZHH99taPKkjg',\n",
       " 'RSs0bQs81xWzeL81iClAevfOirVGPBE4Ctf0lymmscxjSQN4IuoThcaSDdg1NZOic4om3HlUztIvzg',\n",
       " 'mBsMqJuSWqnxxLUGdPTiiHqDivZNrh64n3MND65hu--cV9iu-DWOZfpQ6fSQI78v95FG6GStveMfMg',\n",
       " 'Mm4mqIDNu7szCdtub6foYrxxIWtvKLI_Skkhev40_nwN2_my33OgChdFzYr4pr0oknU_GUxEtAX9KQ',\n",
       " 'mh5Nb6lS5oh7DMQx3GP2Qi75BDno9jxTTeNarIuXbZtDFrkVebcv0mHG8drTNqW9pkS3j3CjynaYuQ',\n",
       " 'uck8AyTmr1dOrD-URr8DN67mu3uACQ9XyC1a7u7JOX7OtL1u2da1NyqvQv5Ans48OwxOPSh_qQljuA',\n",
       " 'wXOtnYXjR1PAkmI9OHu4ry_ZX5UdRwkK0dGFZzs4EpHYCs02LKJhzlNUe9EQWkUnLEX7qW0VJNIqCg']"
      ]
     },
     "execution_count": 14,
     "metadata": {},
     "output_type": "execute_result"
    }
   ],
   "source": [
    "sample_match['metadata']['participants']"
   ]
  },
  {
   "cell_type": "code",
   "execution_count": 15,
   "id": "94901fc0-fb4f-44ec-b064-65435e79005e",
   "metadata": {},
   "outputs": [
    {
     "data": {
      "text/plain": [
       "['NA1_4175441750',\n",
       " 'NA1_4175344199',\n",
       " 'NA1_4175192906',\n",
       " 'NA1_4173918564',\n",
       " 'NA1_4173627832',\n",
       " 'NA1_4173393611',\n",
       " 'NA1_4172894802',\n",
       " 'NA1_4172372771',\n",
       " 'NA1_4168292412',\n",
       " 'NA1_4167869305',\n",
       " 'NA1_4167767160',\n",
       " 'NA1_4166927431',\n",
       " 'NA1_4166765192',\n",
       " 'NA1_4166731956',\n",
       " 'NA1_4166717735',\n",
       " 'NA1_4166675579',\n",
       " 'NA1_4165890971',\n",
       " 'NA1_4165614472',\n",
       " 'NA1_4164205965',\n",
       " 'NA1_4164149583']"
      ]
     },
     "execution_count": 15,
     "metadata": {},
     "output_type": "execute_result"
    }
   ],
   "source": [
    "match_list"
   ]
  },
  {
   "cell_type": "markdown",
   "id": "929c5f67-56d1-4bf7-8e4f-cc44a63cc84d",
   "metadata": {},
   "source": []
  }
 ],
 "metadata": {
  "kernelspec": {
   "display_name": "Python 3",
   "language": "python",
   "name": "python3"
  },
  "language_info": {
   "codemirror_mode": {
    "name": "ipython",
    "version": 3
   },
   "file_extension": ".py",
   "mimetype": "text/x-python",
   "name": "python",
   "nbconvert_exporter": "python",
   "pygments_lexer": "ipython3",
   "version": "3.8.8"
  }
 },
 "nbformat": 4,
 "nbformat_minor": 5
}
